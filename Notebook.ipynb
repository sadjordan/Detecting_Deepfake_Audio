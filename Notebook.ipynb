{
 "cells": [
  {
   "cell_type": "code",
   "execution_count": 1,
   "id": "2e762c32",
   "metadata": {},
   "outputs": [],
   "source": [
    "import os\n",
    "from dotenv import load_dotenv\n",
    "import pandas as pd"
   ]
  },
  {
   "cell_type": "code",
   "execution_count": 2,
   "id": "8f9f1ee0",
   "metadata": {},
   "outputs": [],
   "source": [
    "load_dotenv()\n",
    "dataset_dir = os.getenv(\"DATASET_DIR\")\n",
    "# print(dataset_dir)\n",
    "# print(dataset_dir + \"KAGGLE/DATASET-balanced.csv\")\n",
    "\n",
    "data = pd.read_csv(dataset_dir + \"/KAGGLE/DATASET-balanced.csv\")"
   ]
  },
  {
   "cell_type": "code",
   "execution_count": 3,
   "id": "23a0d4bf",
   "metadata": {},
   "outputs": [
    {
     "name": "stdout",
     "output_type": "stream",
     "text": [
      "   chroma_stft       rms  spectral_centroid  spectral_bandwidth      rolloff  \\\n",
      "0     0.338055  0.027948        2842.948867         4322.916759  6570.586186   \n",
      "1     0.443766  0.037838        2336.129597         3445.777044  3764.949874   \n",
      "2     0.302528  0.056578        2692.988386         2861.133180  4716.610271   \n",
      "3     0.319933  0.031504        2241.665382         3503.766175  3798.641521   \n",
      "4     0.420055  0.016158        2526.069123         3102.659519  5025.077899   \n",
      "\n",
      "   zero_crossing_rate       mfcc1       mfcc2      mfcc3      mfcc4  ...  \\\n",
      "0            0.041050 -462.169586   90.311272  19.073769  24.046888  ...   \n",
      "1            0.047730 -409.413422  120.348808  -7.161531   5.114784  ...   \n",
      "2            0.080342 -318.996033  120.490273 -24.625771  23.891073  ...   \n",
      "3            0.047180 -404.636749  136.320908   2.308172  -3.907071  ...   \n",
      "4            0.051905 -410.497925  152.731400 -18.266771  51.993462  ...   \n",
      "\n",
      "     mfcc12    mfcc13    mfcc14    mfcc15    mfcc16    mfcc17    mfcc18  \\\n",
      "0 -6.686564  0.902086 -7.251551 -1.198342  4.747403 -4.986279  0.953935   \n",
      "1 -2.131157 -6.876417 -1.359395  0.326401 -5.420016 -2.109968 -1.757634   \n",
      "2 -5.853725 -3.724773 -6.627182 -5.117002 -6.072106 -0.994653 -1.617120   \n",
      "3 -1.898315 -2.046493 -7.176277 -3.293508  4.209121  0.121835 -5.407063   \n",
      "4 -1.952340  0.810868  6.238493  6.555839  7.535542  2.849219  2.616843   \n",
      "\n",
      "     mfcc19    mfcc20  LABEL  \n",
      "0 -5.013138 -6.779060   FAKE  \n",
      "1 -9.537907 -8.494421   FAKE  \n",
      "2 -3.922354 -7.033001   FAKE  \n",
      "3 -3.654926 -3.274857   FAKE  \n",
      "4 -1.793357 -5.060998   FAKE  \n",
      "\n",
      "[5 rows x 27 columns]\n"
     ]
    }
   ],
   "source": [
    "print(data.head())"
   ]
  }
 ],
 "metadata": {
  "kernelspec": {
   "display_name": "deepfake_venv",
   "language": "python",
   "name": "python3"
  },
  "language_info": {
   "codemirror_mode": {
    "name": "ipython",
    "version": 3
   },
   "file_extension": ".py",
   "mimetype": "text/x-python",
   "name": "python",
   "nbconvert_exporter": "python",
   "pygments_lexer": "ipython3",
   "version": "3.13.5"
  }
 },
 "nbformat": 4,
 "nbformat_minor": 5
}
